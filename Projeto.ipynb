{
 "cells": [
  {
   "cell_type": "markdown",
   "metadata": {
    "application/vnd.databricks.v1+cell": {
     "cellMetadata": {},
     "inputWidgets": {},
     "nuid": "0de0a887-8e34-4d7f-99a8-48641864eb59",
     "showTitle": false,
     "tableResultSettingsMap": {},
     "title": ""
    }
   },
   "source": [
    "### **Criação do arquivo CSV para simulação**"
   ]
  },
  {
   "cell_type": "code",
   "execution_count": 0,
   "metadata": {
    "application/vnd.databricks.v1+cell": {
     "cellMetadata": {
      "byteLimit": 2048000,
      "rowLimit": 10000
     },
     "inputWidgets": {},
     "nuid": "13465f19-6df4-45fa-a540-76833a9437b0",
     "showTitle": false,
     "tableResultSettingsMap": {},
     "title": ""
    }
   },
   "outputs": [
    {
     "output_type": "stream",
     "name": "stdout",
     "output_type": "stream",
     "text": [
      "✅ Base de vendas criada com sucesso em 'dados/vendas.csv'!\n   id_venda  data_venda   produto  ...  valor_unitario   cliente        regiao\n0         1  2024-06-28   Monitor  ...          336.92      Hugo  Centro-Oeste\n1         2  2024-06-17     Mouse  ...         1035.53  Gabriela           Sul\n2         3  2024-04-19   Headset  ...         1119.52   Eduarda           Sul\n3         4  2024-03-10  Notebook  ...         1164.36     Bruno  Centro-Oeste\n4         5  2024-03-22   Monitor  ...          667.73     Bruno       Sudeste\n\n[5 rows x 7 columns]\n"
     ]
    }
   ],
   "source": [
    "import pandas as pd\n",
    "import random\n",
    "from datetime import datetime, timedelta\n",
    "\n",
    "# Gerar 30 linhas de dados fictícios\n",
    "produtos = [\"Mouse\", \"Teclado\", \"Monitor\", \"Headset\", \"Notebook\", \"Cadeira Gamer\"]\n",
    "clientes = [\"Ana\", \"Bruno\", \"Carla\", \"Diego\", \"Eduarda\", \"Felipe\", \"Gabriela\", \"Hugo\"]\n",
    "regioes = [\"Sul\", \"Sudeste\", \"Nordeste\", \"Centro-Oeste\", \"Norte\"]\n",
    "\n",
    "dados = []\n",
    "\n",
    "for i in range(30):\n",
    "    data_venda = datetime(2024, 1, 1) + timedelta(days=random.randint(0, 200))\n",
    "    produto = random.choice(produtos)\n",
    "    quantidade = random.randint(1, 5)\n",
    "    valor_unitario = round(random.uniform(50, 1500), 2)\n",
    "    cliente = random.choice(clientes)\n",
    "    regiao = random.choice(regioes)\n",
    "    \n",
    "    dados.append([i+1, data_venda.strftime(\"%Y-%m-%d\"), produto, quantidade, valor_unitario, cliente, regiao])\n",
    "\n",
    "df = pd.DataFrame(dados, columns=[\"id_venda\", \"data_venda\", \"produto\", \"quantidade\", \"valor_unitario\", \"cliente\", \"regiao\"])\n",
    "\n",
    "# Criar pasta e salvar o CSV\n",
    "import os\n",
    "os.makedirs(\"dados\", exist_ok=True)\n",
    "df.to_csv(\"dados/vendas.csv\", index=False, encoding=\"utf-8-sig\")\n",
    "\n",
    "print(\"✅ Base de vendas criada com sucesso em 'dados/vendas.csv'!\")\n",
    "print(df.head())\n"
   ]
  },
  {
   "cell_type": "markdown",
   "metadata": {
    "application/vnd.databricks.v1+cell": {
     "cellMetadata": {},
     "inputWidgets": {},
     "nuid": "d4712d70-7f73-4a8f-a0e8-9333a6cb0f64",
     "showTitle": false,
     "tableResultSettingsMap": {},
     "title": ""
    }
   },
   "source": [
    "### **Projeto de Tratamento de Dados**"
   ]
  },
  {
   "cell_type": "code",
   "execution_count": 0,
   "metadata": {
    "application/vnd.databricks.v1+cell": {
     "cellMetadata": {
      "byteLimit": 2048000,
      "rowLimit": 10000
     },
     "inputWidgets": {},
     "nuid": "228a5b2d-6f2a-4549-8820-8a13a2f304f3",
     "showTitle": false,
     "tableResultSettingsMap": {},
     "title": ""
    }
   },
   "outputs": [],
   "source": [
    "# Importar bibliotecas\n",
    "import pandas as pd\n",
    "import os\n",
    "%pip install openpyxl\n",
    "\n",
    "# =================================================\n",
    "\n",
    "# Definir o caminho do arquivo\n",
    "caminho_entrada = \"/Workspace/Users/otavioalvescruz@gmail.com/Automações Python/Automacao_Limpeza/dados/vendas.csv\"\n",
    "caminho_saida = \"/Workspace/Users/otavioalvescruz@gmail.com/Automações Python/Automacao_Limpeza/dados/vendas_tratadas.csv\"\n",
    "caminho_saida_excel = \"/Workspace/Users/otavioalvescruz@gmail.com/Automações Python/Automacao_Limpeza/dados/vendas_tratadas.xlsx\"\n",
    "\n",
    "# =================================================\n",
    "\n",
    "# Ler o arquivo CSV\n",
    "df = pd.read_csv(caminho_entrada)\n",
    "print(\"Base carregada com sucesso!\")\n",
    "print(df.head())\n",
    "\n",
    "# =================================================\n",
    "\n",
    "# Remover linhas duplicadas\n",
    "df = df.drop_duplicates()\n",
    "\n",
    "# =================================================\n",
    "\n",
    "# Tratar valores ausentes\n",
    "df = df.fillna({\n",
    "    \"produto\":\"Desconhecido\",\n",
    "    \"categoria\":\"Não informada\"\n",
    "})\n",
    "\n",
    "# ==================================================\n",
    "\n",
    "# Criar nova coluna: total da venda\n",
    "df[\"total_venda\"] = df[\"quantidade\"] * df[\"valor_unitario\"]\n",
    "\n",
    "# ==================================================\n",
    "\n",
    "# Calcular resumo simples das vendas por produto\n",
    "resumo_produto = df.groupby(\"produto\")[\"total_venda\"].sum().reset_index()\n",
    "print(\"Total de vendas por produto: \")\n",
    "print(resumo_produto)\n",
    "\n",
    "# =================================================\n",
    "\n",
    "# Exportar os arquivos tratados\n",
    "os.makedirs(\"dados\", exist_ok=True)\n",
    "df.to_csv(caminho_saida, index=False)\n",
    "df.to_excel(caminho_saida_excel, index=False)\n",
    "\n",
    "print(\"Arquivos tratados exportados com sucesso!!\")\n",
    "\n"
   ]
  },
  {
   "cell_type": "markdown",
   "metadata": {
    "application/vnd.databricks.v1+cell": {
     "cellMetadata": {},
     "inputWidgets": {},
     "nuid": "746e8de1-fc9b-41a8-bab0-2efd1684c1c3",
     "showTitle": false,
     "tableResultSettingsMap": {},
     "title": ""
    }
   },
   "source": [
    "### **Script Automatizado com Funções em Python**"
   ]
  },
  {
   "cell_type": "code",
   "execution_count": 0,
   "metadata": {
    "application/vnd.databricks.v1+cell": {
     "cellMetadata": {
      "byteLimit": 2048000,
      "rowLimit": 10000
     },
     "inputWidgets": {},
     "nuid": "a515e19f-1fc1-4c5c-afaa-c753d932d298",
     "showTitle": false,
     "tableResultSettingsMap": {},
     "title": ""
    }
   },
   "outputs": [
    {
     "output_type": "stream",
     "name": "stdout",
     "output_type": "stream",
     "text": [
      "Arquivo lido com sucesso!\nResumo por produto criado com sucesso!\nArquivos exportados com sucesso!\nAutomação finalizada com sucesso!\n"
     ]
    }
   ],
   "source": [
    "import pandas as pd\n",
    "import os\n",
    "\n",
    "# ======================================\n",
    "# Leitura do arquivo CSV\n",
    "def leitura_arquivo(caminho_arquivo):\n",
    "    df = pd.read_csv(caminho_arquivo)\n",
    "    print(\"Arquivo lido com sucesso!\")\n",
    "    return df\n",
    "\n",
    "# ======================================\n",
    "# Remover linhas duplicadas\n",
    "def remover_duplicadas(df):\n",
    "    df = df.drop_duplicates()\n",
    "    return df\n",
    "\n",
    "# ======================================\n",
    "# Tratar dados nulos\n",
    "def tratar_dados_nulos(df):\n",
    "    df = df.fillna({\n",
    "        \"produto\": \"Desconhecido\",\n",
    "        \"categoria\": \"Não informada\"\n",
    "    })\n",
    "    return df\n",
    "\n",
    "# ======================================\n",
    "# Criar coluna \"total da venda\"\n",
    "def total_venda(df):\n",
    "    df[\"total_venda\"] = df[\"quantidade\"] * df[\"valor_unitario\"]\n",
    "    return df\n",
    "\n",
    "# ======================================\n",
    "# Criar um resumo por produto\n",
    "def resumo_produto(df):\n",
    "    resumo = df.groupby(\"produto\")[\"total_venda\"].sum().reset_index()\n",
    "    print(\"Resumo por produto criado com sucesso!\")\n",
    "    return resumo\n",
    "\n",
    "# ======================================\n",
    "# Exportar CSV e Excel\n",
    "def exportar_arquivos(df):\n",
    "    os.makedirs(\"dados\", exist_ok=True)\n",
    "    df.to_csv(\"dados/vendas_tratadas.csv\", index=False)\n",
    "    df.to_excel(\"dados/vendas_tratadas.xlsx\", index=False)\n",
    "    print(\"Arquivos exportados com sucesso!\")\n",
    "\n",
    "# ======================================\n",
    "# Função principal\n",
    "def main():\n",
    "    caminho_arquivo = \"/Workspace/Users/otavioalvescruz@gmail.com/Automações Python/Automacao_Limpeza/dados/vendas.csv\"\n",
    "\n",
    "    df = leitura_arquivo(caminho_arquivo)\n",
    "    df = remover_duplicadas(df)\n",
    "    df = tratar_dados_nulos(df)\n",
    "    df = total_venda(df)\n",
    "    resumo = resumo_produto(df)\n",
    "\n",
    "    exportar_arquivos(df)\n",
    "    print(\"Automação finalizada com sucesso!\")\n",
    "\n",
    "# ======================================\n",
    "main()\n"
   ]
  }
 ],
 "metadata": {
  "application/vnd.databricks.v1+notebook": {
   "computePreferences": {
    "hardware": {
     "accelerator": null,
     "gpuPoolId": null,
     "memory": null
    }
   },
   "dashboards": [],
   "environmentMetadata": {
    "base_environment": "",
    "environment_version": "4"
   },
   "inputWidgetPreferences": null,
   "language": "python",
   "notebookMetadata": {
    "pythonIndentUnit": 4
   },
   "notebookName": "Projeto",
   "widgets": {}
  },
  "language_info": {
   "name": "python"
  }
 },
 "nbformat": 4,
 "nbformat_minor": 0
}